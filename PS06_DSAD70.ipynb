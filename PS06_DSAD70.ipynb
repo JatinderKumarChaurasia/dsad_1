{
 "cells": [
  {
   "cell_type": "code",
   "execution_count": 1,
   "id": "ba02f0b1-ef6b-4207-b7d0-dc703e55e7a3",
   "metadata": {},
   "outputs": [],
   "source": [
    "# storing prev value as greedy method Greedy is an algorithmic paradigm SELECTION SORT that builds up a solution \n",
    "# piece by piece, always choosing the next piece that offers the most obvious and immediate benefit. So the problems \n",
    "# where choosing locally optimal also leads to global solution are best fit for Greedy. \n",
    "def main(pattern):\n",
    "    matched = 0\n",
    "    # print(pattern)\n",
    "    # prev=[LL] next=L // added to previous\n",
    "    # prev=[\n",
    "    prev = [] # storing the previous | iterating to next one comp\n",
    "    for i in pattern: #O(n)\n",
    "        # print(f'{prev}  and {i} and deleted_last={deleted_last} and matched={matched}')\n",
    "        if not prev:\n",
    "            prev.append(i) # L\n",
    "        elif prev[-1] == i:\n",
    "            prev.append(i)\n",
    "        elif prev[-1] != i:\n",
    "            prev = prev[:len(prev) - 1]\n",
    "        if not prev: # prev=[]\n",
    "            matched = matched + 1\n",
    "    return matched"
   ]
  },
  {
   "cell_type": "code",
   "execution_count": 2,
   "id": "c69c1499-4a3b-4894-bd28-354a90843e7c",
   "metadata": {},
   "outputs": [],
   "source": [
    "with open(file='inputPS06.txt') as f , open(file='outputPS06.txt',mode='w') as output:\n",
    "    for line in f.readlines(): # O(n)\n",
    "        output.writelines(str(main(line.strip()))+'\\n')"
   ]
  },
  {
   "cell_type": "markdown",
   "id": "5a9d4aa3-896f-44b2-b90b-9f75e1166c60",
   "metadata": {},
   "source": [
    "#### Time complexity of this algorithm: O(n2)"
   ]
  },
  {
   "cell_type": "code",
   "execution_count": null,
   "id": "0a1235cd-81cc-4a73-b368-72ec4fd28e44",
   "metadata": {},
   "outputs": [],
   "source": []
  }
 ],
 "metadata": {
  "kernelspec": {
   "display_name": "Python 3 (ipykernel)",
   "language": "python",
   "name": "python3"
  },
  "language_info": {
   "codemirror_mode": {
    "name": "ipython",
    "version": 3
   },
   "file_extension": ".py",
   "mimetype": "text/x-python",
   "name": "python",
   "nbconvert_exporter": "python",
   "pygments_lexer": "ipython3",
   "version": "3.9.7"
  }
 },
 "nbformat": 4,
 "nbformat_minor": 5
}
